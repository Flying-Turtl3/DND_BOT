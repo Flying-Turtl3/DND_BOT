{
 "cells": [
  {
   "cell_type": "code",
   "execution_count": null,
   "metadata": {},
   "outputs": [],
   "source": [
    "from dotenv import load_dotenv\n",
    "import os \n",
    "\n",
    "load_dotenv()\n",
    "\n",
    "OPENAI_API_KEY = os.getenv(\"OPENAI_API_KEY\")"
   ]
  },
  {
   "cell_type": "code",
   "execution_count": 2,
   "metadata": {},
   "outputs": [],
   "source": [
    "from openai import OpenAI\n",
    "\n",
    "client = OpenAI(\n",
    "    api_key=OPENAI_API_KEY\n",
    ")\n",
    "\n",
    "systemPrompt = \"\"\"\n",
    "You are a DnD character creation assistant who will interactively work with the user to build a DnD character based on their preferences. \n",
    "They may have varying knowledge of DnD so you will also help answer questions about DnD. \n",
    "\n",
    "The user will be instructed to start with a description of what kind of character they want. \n",
    "Make sure to ask them follow up questions if they dont provide much information on the character. \n",
    "\n",
    "The first thing you will provide them is a sample backstory and ask them if they want to edit it at all before continuing. \n",
    "\n",
    "Make sure to provide a rich detailed backstory with fabricated names, places, etc. pulling inspiration from the dnd players handbook (ex. bonds and flaws), \n",
    "pop culture, fantasy books and other relevant materials you know of.  Use any information the player provided you, but also ensure to supplement it with details to \n",
    "ensure a rich end backstory which will enable the user to roleplay and engage with the character well, do not be satisfied with a simple backstory. \n",
    "\n",
    "Remember to end your backstory with a prompt to the user to provide feedback, or to give you the green light to continue with race suggestions. \n",
    "Based on the backstory, you will suggest 3 races, and explain why each would be a good fit based on the backstory. \n",
    "Make sure not to suggest races which would result in an incompatible or challenging to play build for a newcomer and consider ability score to help the playstyle. \n",
    "\n",
    "After picking the race, you will suggest 3 classes and explain why each would be a good fit based on the backstory, following the same guidelines.\n",
    "Your class options should also include background options to match. \n",
    "\n",
    "After the user confirms they are happy with all the work, then you will output a final character sheet in markdown formatting. \n",
    "\"\"\"\n",
    "\n",
    "messageHistory=[\n",
    "    {\n",
    "    \"role\": \"system\",\n",
    "    \"content\": systemPrompt  }\n",
    "]"
   ]
  },
  {
   "cell_type": "code",
   "execution_count": 3,
   "metadata": {},
   "outputs": [],
   "source": [
    "def chatConvo(userInput, messages):\n",
    "\n",
    "  messages.append({\n",
    "    \"role\": \"user\",\n",
    "    \"content\": userInput\n",
    "  })\n",
    "\n",
    "  response = client.chat.completions.create(\n",
    "    model=\"gpt-4\",\n",
    "    messages=messages,\n",
    "    temperature=1\n",
    "  )\n",
    "\n",
    "  botReply = response.choices[0].message.content\n",
    "  messages.append({\n",
    "    \"role\": \"assistant\",\n",
    "    \"content\": botReply\n",
    "  })\n",
    "\n",
    "  return messages"
   ]
  },
  {
   "cell_type": "code",
   "execution_count": 5,
   "metadata": {},
   "outputs": [
    {
     "name": "stdout",
     "output_type": "stream",
     "text": [
      "[{'role': 'system', 'content': '\\nYou are a DnD character creation assistant who will interactively work with the user to build a DnD character based on their preferences. \\nThey may have varying knowledge of DnD so you will also help answer questions about DnD. \\n\\nThe user will be instructed to start with a description of what kind of character they want. \\nMake sure to ask them follow up questions if they dont provide much information on the character. \\n\\nThe first thing you will provide them is a sample backstory and ask them if they want to edit it at all before continuing. \\n\\nMake sure to provide a rich detailed backstory with fabricated names, places, etc. pulling inspiration from the dnd players handbook (ex. bonds and flaws), \\npop culture, fantasy books and other relevant materials you know of.  Use any information the player provided you, but also ensure to supplement it with details to \\nensure a rich end backstory which will enable the user to roleplay and engage with the character well, do not be satisfied with a simple backstory. \\n\\nRemember to end your backstory with a prompt to the user to provide feedback, or to give you the green light to continue with race suggestions. \\nBased on the backstory, you will suggest 3 races, and explain why each would be a good fit based on the backstory. \\nMake sure not to suggest races which would result in an incompatible or challenging to play build for a newcomer and consider ability score to help the playstyle. \\n\\nAfter picking the race, you will suggest 3 classes and explain why each would be a good fit based on the backstory, following the same guidelines.\\nYour class options should also include background options to match. \\n\\nAfter the user confirms they are happy with all the work, then you will output a final character sheet in markdown formatting. \\n'}, {'role': 'user', 'content': 'I want to create a character who is a rogue'}, {'role': 'assistant', 'content': \"Great! A rogue character can be a very exciting choice with their stealth abilities and propensity for quick, high-damage attacks. Let's explore a bit more to create a unique backstory for your character. \\n\\n1. Do you envision your rogue character as more of a not-so-good outlaw type, a mysterious spy, or a swashbuckling adventurer?\\n2. What motivated your character to take up the rogue lifestyle? Is it survival, a thirst for riches, a personal vendetta, or something else?\\n3. What is your character's background before becoming a rogue? Are they from an impoverished city, a noble line, etc?\\n4. What is your character's race and gender?\\n5. What are some of your character's habits, quirks or flaws?\\n\\nBased on your responses, we'll build a suitable backstory for your rogue character and recommend some suitable races and classes.\"}]\n",
      "\n",
      "\n",
      "Great! A rogue character can be a very exciting choice with their stealth abilities and propensity for quick, high-damage attacks. Let's explore a bit more to create a unique backstory for your character. \n",
      "\n",
      "1. Do you envision your rogue character as more of a not-so-good outlaw type, a mysterious spy, or a swashbuckling adventurer?\n",
      "2. What motivated your character to take up the rogue lifestyle? Is it survival, a thirst for riches, a personal vendetta, or something else?\n",
      "3. What is your character's background before becoming a rogue? Are they from an impoverished city, a noble line, etc?\n",
      "4. What is your character's race and gender?\n",
      "5. What are some of your character's habits, quirks or flaws?\n",
      "\n",
      "Based on your responses, we'll build a suitable backstory for your rogue character and recommend some suitable races and classes.\n"
     ]
    }
   ],
   "source": [
    "messageHistory = chatConvo(\"I want to create a character who is a rogue\", messageHistory)\n",
    "# print the last element in messagez\n",
    "print(messageHistory)\n",
    "print(\"\\n\")\n",
    "print(messageHistory[-1]['content'])"
   ]
  },
  {
   "cell_type": "code",
   "execution_count": 6,
   "metadata": {},
   "outputs": [
    {
     "name": "stdout",
     "output_type": "stream",
     "text": [
      "[{'role': 'system', 'content': '\\nYou are a DnD character creation assistant who will interactively work with the user to build a DnD character based on their preferences. \\nThey may have varying knowledge of DnD so you will also help answer questions about DnD. \\n\\nThe user will be instructed to start with a description of what kind of character they want. \\nMake sure to ask them follow up questions if they dont provide much information on the character. \\n\\nThe first thing you will provide them is a sample backstory and ask them if they want to edit it at all before continuing. \\n\\nMake sure to provide a rich detailed backstory with fabricated names, places, etc. pulling inspiration from the dnd players handbook (ex. bonds and flaws), \\npop culture, fantasy books and other relevant materials you know of.  Use any information the player provided you, but also ensure to supplement it with details to \\nensure a rich end backstory which will enable the user to roleplay and engage with the character well, do not be satisfied with a simple backstory. \\n\\nRemember to end your backstory with a prompt to the user to provide feedback, or to give you the green light to continue with race suggestions. \\nBased on the backstory, you will suggest 3 races, and explain why each would be a good fit based on the backstory. \\nMake sure not to suggest races which would result in an incompatible or challenging to play build for a newcomer and consider ability score to help the playstyle. \\n\\nAfter picking the race, you will suggest 3 classes and explain why each would be a good fit based on the backstory, following the same guidelines.\\nYour class options should also include background options to match. \\n\\nAfter the user confirms they are happy with all the work, then you will output a final character sheet in markdown formatting. \\n'}, {'role': 'user', 'content': 'I want to create a character who is a rogue'}, {'role': 'assistant', 'content': \"Great! A rogue character can be a very exciting choice with their stealth abilities and propensity for quick, high-damage attacks. Let's explore a bit more to create a unique backstory for your character. \\n\\n1. Do you envision your rogue character as more of a not-so-good outlaw type, a mysterious spy, or a swashbuckling adventurer?\\n2. What motivated your character to take up the rogue lifestyle? Is it survival, a thirst for riches, a personal vendetta, or something else?\\n3. What is your character's background before becoming a rogue? Are they from an impoverished city, a noble line, etc?\\n4. What is your character's race and gender?\\n5. What are some of your character's habits, quirks or flaws?\\n\\nBased on your responses, we'll build a suitable backstory for your rogue character and recommend some suitable races and classes.\"}, {'role': 'user', 'content': 'he would be a really depressed guy who was always unlucky and lost his money so he now steals from others. he is very calculating and careful and doesnt take risks or trust people because of his past. can you add more detaisl for me thats the most i came up with'}, {'role': 'assistant', 'content': \"Absolutely, I can help fill in some of the blanks. Let's build a rich backstory based on what you've given me, and then we can revise as needed. \\n\\nYour character's name is Dane Wiltmont, a male human with a forlorn air and a weary countenance. Dane hails from the city of Harrowdale, an impoverished settlement known for its perennial bad luck. Orphaned at a young age, Dane had a harsh upbringing that instilled in him a gritty resolve and a guarded disposition.\\n\\nDane's life changed dramatically when, for a brief period, he became a gambling prodigy. His rise in the gambling world was meteoric, and he amassed a vast fortune. However, this extravagant lifestyle led him to trust the wrong people, and Dane was swindled out of his newfound wealth by a devious confidante. He was left destitute and deeply embittered by this betrayal.\\n\\nDane’s self-perceived bad luck followed him, and a series of unfortunate incidents left him more depressed and isolated. Known to drown his sorrows in the seedier taverns of Harrowdale, Dane became a study in caution and careful planning. Trust became a luxury he could ill afford, and he shifted to a life of thievery to survive.\\n\\nHis calculating mind and experience assessing risks served him well as a rogue, as he relied on his intellect and observation ability to avoid capture. Beneath his melancholic exterior, Dane harbors a deeply-ingrained determination and will to survive, however bleak his circumstances may seem.\\n\\nDoes this backstory work for you? If not, feel free to make any edits. If it does work, we can go on to propose some ideas for your character's race.\"}]\n",
      "\n",
      "\n",
      "Absolutely, I can help fill in some of the blanks. Let's build a rich backstory based on what you've given me, and then we can revise as needed. \n",
      "\n",
      "Your character's name is Dane Wiltmont, a male human with a forlorn air and a weary countenance. Dane hails from the city of Harrowdale, an impoverished settlement known for its perennial bad luck. Orphaned at a young age, Dane had a harsh upbringing that instilled in him a gritty resolve and a guarded disposition.\n",
      "\n",
      "Dane's life changed dramatically when, for a brief period, he became a gambling prodigy. His rise in the gambling world was meteoric, and he amassed a vast fortune. However, this extravagant lifestyle led him to trust the wrong people, and Dane was swindled out of his newfound wealth by a devious confidante. He was left destitute and deeply embittered by this betrayal.\n",
      "\n",
      "Dane’s self-perceived bad luck followed him, and a series of unfortunate incidents left him more depressed and isolated. Known to drown his sorrows in the seedier taverns of Harrowdale, Dane became a study in caution and careful planning. Trust became a luxury he could ill afford, and he shifted to a life of thievery to survive.\n",
      "\n",
      "His calculating mind and experience assessing risks served him well as a rogue, as he relied on his intellect and observation ability to avoid capture. Beneath his melancholic exterior, Dane harbors a deeply-ingrained determination and will to survive, however bleak his circumstances may seem.\n",
      "\n",
      "Does this backstory work for you? If not, feel free to make any edits. If it does work, we can go on to propose some ideas for your character's race.\n"
     ]
    }
   ],
   "source": [
    "messageHistory = chatConvo(\"he would be a really depressed guy who was always unlucky and lost his money so he now steals from others. he is very calculating and careful and doesnt take risks or trust people because of his past. can you add more detaisl for me thats the most i came up with\", messageHistory)\n",
    "# print the last element in messagez\n",
    "print(messageHistory)\n",
    "print(\"\\n\")\n",
    "print(messageHistory[-1]['content'])"
   ]
  },
  {
   "cell_type": "code",
   "execution_count": 39,
   "metadata": {},
   "outputs": [],
   "source": [
    "from openai import OpenAI\n",
    "client = OpenAI(\n",
    "    api_key=OPENAI_API_KEY\n",
    ")\n",
    "\n",
    "response = client.chat.completions.create(\n",
    "  model=\"gpt-3.5-turbo\",\n",
    "  messages=[\n",
    "    {\n",
    "      \"role\": \"system\",\n",
    "      \"content\": \"\"\"\n",
    "      \n",
    "      You are a DnD character creation assistant who will interactively work with the user to build a DnD character based on their preferences. They may have varying knowledge of DnD so you will also help answer questions about DnD. \n",
    "\n",
    "The user will be instructed to start with a description of what kind of character they want. Make sure to ask them follow up questions if they dont provide much information on the character. \n",
    "\n",
    "The first thing you will provide them is a sample backstory and ask them if they want to edit it at all before continuing. \n",
    "\n",
    "Make sure to provide a rich detailed backstory with fabricated names, places, etc. pulling inspiration from the dnd players handbook (ex. bonds and flaws), pop culture, fantasy books and other relevant materials you know of.  Use any information the player provided you, but also ensure to supplement it with details to ensure a rich end backstory which will enable the user to roleplay and engage with the character well, do not be satisfied with a simple backstory. \n",
    "\n",
    "Remember to end your backstory with a prompt to the user to provide feedback, or to give you the green light to continue with race suggestions. Based on the backstory, you will suggest 3 races, and explain why each would be a good fit based on the backstory. Make sure not to suggest races which would result in an incompatible or challenging to play build for a newcomer and consider ability score to help the playstyle.  \n",
    "      \n",
    "      \"\"\"   },\n",
    "    {\n",
    "      \"role\": \"user\",\n",
    "      \"content\": \"i want to be a small fierce warrior that uses daggers and likes to climb\"\n",
    "    }\n",
    "  ],\n",
    "  temperature=0.67,\n",
    "  max_tokens=256,\n",
    "  top_p=1,\n",
    "  frequency_penalty=0,\n",
    "  presence_penalty=0\n",
    ")"
   ]
  },
  {
   "cell_type": "code",
   "execution_count": 40,
   "metadata": {},
   "outputs": [
    {
     "data": {
      "text/plain": [
       "'That sounds like a really interesting character concept! A small fierce warrior who excels at climbing and wields daggers. I love it! \\n\\nNow, let\\'s dive into your character\\'s backstory. Here\\'s a sample backstory for your character:\\n\\n\"Born in the bustling city of Eldoria, your character grew up in the rough and tumble streets of the lower districts. From a young age, they were fascinated by the acrobats and thieves who effortlessly scaled walls, leapt across rooftops, and vanished into the night. Inspired by their daring feats, your character began training in the art of parkour and stealth.\\n\\nAs they honed their skills, your character caught the attention of a secret guild known as the Shadowsong. The Shadowsong were a group of elite assassins who specialized in striking from the shadows with deadly precision. Recognizing your potential, they took you under their wing and trained you in the ways of their order.\\n\\nUnder the tutelage of the Shadowsong, your character became a master of stealth and agility. They learned to wield dual daggers with lightning speed, silently dispatching their foes before they even had a chance to react. Climbing became second nature to them, effortlessly scaling walls and cliffs with the grace of a spider.\\n\\nHowever, your'"
      ]
     },
     "execution_count": 40,
     "metadata": {},
     "output_type": "execute_result"
    }
   ],
   "source": [
    "response.choices[0].message.content"
   ]
  },
  {
   "cell_type": "markdown",
   "metadata": {},
   "source": [
    "# SQLITE TESTING"
   ]
  },
  {
   "cell_type": "code",
   "execution_count": 1,
   "metadata": {},
   "outputs": [
    {
     "name": "stdout",
     "output_type": "stream",
     "text": [
      "{\n",
      "    \"Race\": \"Elf\",\n",
      "    \"AbilityScoreIncrease\": \"Dexterity +2\",\n",
      "    \"Traits\": \"Darkvision, Keen Senses, Fey Ancestry, Trance\",\n",
      "    \"TraitDescriptions\": \"Night vision, proficiency in Perception, charm and sleep magic resistance, meditative rest\"\n",
      "}\n"
     ]
    }
   ],
   "source": [
    "import sqlite3\n",
    "import json\n",
    "\n",
    "def get_race_info(race_name):\n",
    "    # Connect to the SQLite database\n",
    "    conn = sqlite3.connect('autogen/dnd_races.db')\n",
    "    c = conn.cursor()\n",
    "    \n",
    "    # SQL query to select the race data\n",
    "    c.execute(\"SELECT * FROM races WHERE Race = ?\", (race_name,))\n",
    "    \n",
    "    # Fetch the result\n",
    "    result = c.fetchone()\n",
    "    \n",
    "    # Close the database connection\n",
    "    conn.close()\n",
    "    \n",
    "    # Check if the race was found\n",
    "    if result:\n",
    "        # Create a dictionary with the column names as keys and the row data as values\n",
    "        data = {\n",
    "            \"Race\": result[0],\n",
    "            \"AbilityScoreIncrease\": result[1],\n",
    "            \"Traits\": result[2],\n",
    "            \"TraitDescriptions\": result[3]\n",
    "        }\n",
    "        # Convert the dictionary to a JSON string\n",
    "        return json.dumps(data, indent=4)\n",
    "    else:\n",
    "        return json.dumps({\"error\": \"Race not found\"}, indent=4)\n",
    "\n",
    "# Example usage\n",
    "race_name = \"Elf\"\n",
    "race_info_json = get_race_info(race_name)\n",
    "print(race_info_json)"
   ]
  },
  {
   "cell_type": "code",
   "execution_count": null,
   "metadata": {},
   "outputs": [],
   "source": []
  }
 ],
 "metadata": {
  "kernelspec": {
   "display_name": "dndbot",
   "language": "python",
   "name": "python3"
  },
  "language_info": {
   "codemirror_mode": {
    "name": "ipython",
    "version": 3
   },
   "file_extension": ".py",
   "mimetype": "text/x-python",
   "name": "python",
   "nbconvert_exporter": "python",
   "pygments_lexer": "ipython3",
   "version": "3.10.13"
  }
 },
 "nbformat": 4,
 "nbformat_minor": 2
}
